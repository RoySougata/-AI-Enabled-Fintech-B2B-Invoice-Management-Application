{
  "nbformat": 4,
  "nbformat_minor": 0,
  "metadata": {
    "colab": {
      "name": "H2HBABBA1340_JOEY_MILESTONE3.ipynb",
      "provenance": [],
      "collapsed_sections": []
    },
    "kernelspec": {
      "name": "python3",
      "display_name": "Python 3"
    },
    "language_info": {
      "name": "python"
    }
  },
  "cells": [
    {
      "cell_type": "code",
      "metadata": {
        "id": "6fRny6c4HBua"
      },
      "source": [
        "#Importing the required libraries\n",
        "import pandas as pd\n",
        "import numpy as np\n",
        "import matplotlib.pyplot as plt\n",
        "import seaborn as sns"
      ],
      "execution_count": 1,
      "outputs": []
    },
    {
      "cell_type": "code",
      "metadata": {
        "id": "xuzVn2qMHFCH"
      },
      "source": [
        "#Reading our Dataset\n",
        "df=pd.read_csv('/content/drive/MyDrive/HighRadius/H2HBABBA1340.csv')"
      ],
      "execution_count": 2,
      "outputs": []
    },
    {
      "cell_type": "code",
      "metadata": {
        "colab": {
          "base_uri": "https://localhost:8080/",
          "height": 325
        },
        "id": "qQYmIGXcHFDm",
        "outputId": "8b26256e-d240-4c90-b39e-e8160d86cdfc"
      },
      "source": [
        "#Visualising our Data\n",
        "df.head()"
      ],
      "execution_count": 3,
      "outputs": [
        {
          "output_type": "execute_result",
          "data": {
            "text/html": [
              "<div>\n",
              "<style scoped>\n",
              "    .dataframe tbody tr th:only-of-type {\n",
              "        vertical-align: middle;\n",
              "    }\n",
              "\n",
              "    .dataframe tbody tr th {\n",
              "        vertical-align: top;\n",
              "    }\n",
              "\n",
              "    .dataframe thead th {\n",
              "        text-align: right;\n",
              "    }\n",
              "</style>\n",
              "<table border=\"1\" class=\"dataframe\">\n",
              "  <thead>\n",
              "    <tr style=\"text-align: right;\">\n",
              "      <th></th>\n",
              "      <th>business_code</th>\n",
              "      <th>cust_number</th>\n",
              "      <th>name_customer</th>\n",
              "      <th>clear_date</th>\n",
              "      <th>buisness_year</th>\n",
              "      <th>doc_id</th>\n",
              "      <th>posting_date</th>\n",
              "      <th>document_create_date</th>\n",
              "      <th>document_create_date.1</th>\n",
              "      <th>due_in_date</th>\n",
              "      <th>invoice_currency</th>\n",
              "      <th>document type</th>\n",
              "      <th>posting_id</th>\n",
              "      <th>area_business</th>\n",
              "      <th>total_open_amount</th>\n",
              "      <th>baseline_create_date</th>\n",
              "      <th>cust_payment_terms</th>\n",
              "      <th>invoice_id</th>\n",
              "      <th>isOpen</th>\n",
              "    </tr>\n",
              "  </thead>\n",
              "  <tbody>\n",
              "    <tr>\n",
              "      <th>0</th>\n",
              "      <td>U001</td>\n",
              "      <td>CCU013</td>\n",
              "      <td>KRAFT F corporation</td>\n",
              "      <td>2019-11-27 00:00:00</td>\n",
              "      <td>2019.0</td>\n",
              "      <td>1.930058e+09</td>\n",
              "      <td>2019-11-01</td>\n",
              "      <td>20191028</td>\n",
              "      <td>20191101</td>\n",
              "      <td>20191101.0</td>\n",
              "      <td>USD</td>\n",
              "      <td>RV</td>\n",
              "      <td>1.0</td>\n",
              "      <td>NaN</td>\n",
              "      <td>11693.65</td>\n",
              "      <td>20191101.0</td>\n",
              "      <td>NAX2</td>\n",
              "      <td>1.930058e+09</td>\n",
              "      <td>0</td>\n",
              "    </tr>\n",
              "    <tr>\n",
              "      <th>1</th>\n",
              "      <td>U001</td>\n",
              "      <td>0200769623</td>\n",
              "      <td>WAL-MAR systems</td>\n",
              "      <td>NaN</td>\n",
              "      <td>2020.0</td>\n",
              "      <td>1.930584e+09</td>\n",
              "      <td>2020-03-01</td>\n",
              "      <td>20200229</td>\n",
              "      <td>20200301</td>\n",
              "      <td>20200316.0</td>\n",
              "      <td>USD</td>\n",
              "      <td>RV</td>\n",
              "      <td>1.0</td>\n",
              "      <td>NaN</td>\n",
              "      <td>9579.37</td>\n",
              "      <td>20200301.0</td>\n",
              "      <td>NAH4</td>\n",
              "      <td>1.930584e+09</td>\n",
              "      <td>1</td>\n",
              "    </tr>\n",
              "    <tr>\n",
              "      <th>2</th>\n",
              "      <td>U001</td>\n",
              "      <td>0200974851</td>\n",
              "      <td>RESTA us</td>\n",
              "      <td>2019-09-16 00:00:00</td>\n",
              "      <td>2019.0</td>\n",
              "      <td>1.929779e+09</td>\n",
              "      <td>2019-08-30</td>\n",
              "      <td>20190823</td>\n",
              "      <td>20190830</td>\n",
              "      <td>20190914.0</td>\n",
              "      <td>USD</td>\n",
              "      <td>RV</td>\n",
              "      <td>1.0</td>\n",
              "      <td>NaN</td>\n",
              "      <td>747.45</td>\n",
              "      <td>20190830.0</td>\n",
              "      <td>NAA8</td>\n",
              "      <td>1.929779e+09</td>\n",
              "      <td>0</td>\n",
              "    </tr>\n",
              "    <tr>\n",
              "      <th>3</th>\n",
              "      <td>U001</td>\n",
              "      <td>200761734</td>\n",
              "      <td>H E BUT foundation</td>\n",
              "      <td>2019-07-30 00:00:00</td>\n",
              "      <td>2019.0</td>\n",
              "      <td>1.929621e+09</td>\n",
              "      <td>2019-07-16</td>\n",
              "      <td>20190715</td>\n",
              "      <td>20190716</td>\n",
              "      <td>20190731.0</td>\n",
              "      <td>USD</td>\n",
              "      <td>RV</td>\n",
              "      <td>1.0</td>\n",
              "      <td>NaN</td>\n",
              "      <td>86873.23</td>\n",
              "      <td>20190716.0</td>\n",
              "      <td>NAA8</td>\n",
              "      <td>1.929621e+09</td>\n",
              "      <td>0</td>\n",
              "    </tr>\n",
              "    <tr>\n",
              "      <th>4</th>\n",
              "      <td>CA02</td>\n",
              "      <td>0140105686</td>\n",
              "      <td>SYSC corporation</td>\n",
              "      <td>2019-02-28 00:00:00</td>\n",
              "      <td>2019.0</td>\n",
              "      <td>2.960529e+09</td>\n",
              "      <td>2019-02-13</td>\n",
              "      <td>20190213</td>\n",
              "      <td>20190213</td>\n",
              "      <td>20190224.0</td>\n",
              "      <td>CAD</td>\n",
              "      <td>RV</td>\n",
              "      <td>1.0</td>\n",
              "      <td>NaN</td>\n",
              "      <td>39571.02</td>\n",
              "      <td>20190214.0</td>\n",
              "      <td>CA10</td>\n",
              "      <td>2.960529e+09</td>\n",
              "      <td>0</td>\n",
              "    </tr>\n",
              "  </tbody>\n",
              "</table>\n",
              "</div>"
            ],
            "text/plain": [
              "  business_code cust_number  ...    invoice_id isOpen\n",
              "0          U001      CCU013  ...  1.930058e+09      0\n",
              "1          U001  0200769623  ...  1.930584e+09      1\n",
              "2          U001  0200974851  ...  1.929779e+09      0\n",
              "3          U001   200761734  ...  1.929621e+09      0\n",
              "4          CA02  0140105686  ...  2.960529e+09      0\n",
              "\n",
              "[5 rows x 19 columns]"
            ]
          },
          "metadata": {
            "tags": []
          },
          "execution_count": 3
        }
      ]
    },
    {
      "cell_type": "markdown",
      "metadata": {
        "id": "1FVFccdTHrv4"
      },
      "source": [
        "#**Start Of Preprocessing**"
      ]
    },
    {
      "cell_type": "code",
      "metadata": {
        "colab": {
          "base_uri": "https://localhost:8080/"
        },
        "id": "otV5gRdoHFF5",
        "outputId": "fa2f0b64-3765-4186-a8f1-a09d12dae6e4"
      },
      "source": [
        "# Checking the Datatypes\n",
        "df.dtypes\n"
      ],
      "execution_count": 4,
      "outputs": [
        {
          "output_type": "execute_result",
          "data": {
            "text/plain": [
              "business_code              object\n",
              "cust_number                object\n",
              "name_customer              object\n",
              "clear_date                 object\n",
              "buisness_year             float64\n",
              "doc_id                    float64\n",
              "posting_date               object\n",
              "document_create_date        int64\n",
              "document_create_date.1      int64\n",
              "due_in_date               float64\n",
              "invoice_currency           object\n",
              "document type              object\n",
              "posting_id                float64\n",
              "area_business             float64\n",
              "total_open_amount         float64\n",
              "baseline_create_date      float64\n",
              "cust_payment_terms         object\n",
              "invoice_id                float64\n",
              "isOpen                      int64\n",
              "dtype: object"
            ]
          },
          "metadata": {
            "tags": []
          },
          "execution_count": 4
        }
      ]
    },
    {
      "cell_type": "code",
      "metadata": {
        "id": "I1LvQrXkHFJA"
      },
      "source": [
        "#Converting the date columns to_datetime format\n",
        "df['clear_date'] = pd.to_datetime(df['clear_date'])\n",
        "df['posting_date'] = pd.to_datetime(df['posting_date'])\n",
        "df['document_create_date'] = pd.to_datetime(df['document_create_date'], format='%Y%m%d')\n",
        "df['document_create_date.1'] = pd.to_datetime(df['document_create_date.1'], format='%Y%m%d')\n",
        "df['due_in_date'] = pd.to_datetime(df['due_in_date'], format='%Y%m%d')\n",
        "df['baseline_create_date'] = pd.to_datetime(df['baseline_create_date'], format='%Y%m%d')"
      ],
      "execution_count": 5,
      "outputs": []
    },
    {
      "cell_type": "code",
      "metadata": {
        "colab": {
          "base_uri": "https://localhost:8080/"
        },
        "id": "qvmkog0lHFLm",
        "outputId": "6c4454e0-aef1-45e2-b37a-5c8cfc6f1eae"
      },
      "source": [
        "#Checking the new Datatype of the date columns\n",
        "df.dtypes"
      ],
      "execution_count": 6,
      "outputs": [
        {
          "output_type": "execute_result",
          "data": {
            "text/plain": [
              "business_code                     object\n",
              "cust_number                       object\n",
              "name_customer                     object\n",
              "clear_date                datetime64[ns]\n",
              "buisness_year                    float64\n",
              "doc_id                           float64\n",
              "posting_date              datetime64[ns]\n",
              "document_create_date      datetime64[ns]\n",
              "document_create_date.1    datetime64[ns]\n",
              "due_in_date               datetime64[ns]\n",
              "invoice_currency                  object\n",
              "document type                     object\n",
              "posting_id                       float64\n",
              "area_business                    float64\n",
              "total_open_amount                float64\n",
              "baseline_create_date      datetime64[ns]\n",
              "cust_payment_terms                object\n",
              "invoice_id                       float64\n",
              "isOpen                             int64\n",
              "dtype: object"
            ]
          },
          "metadata": {
            "tags": []
          },
          "execution_count": 6
        }
      ]
    },
    {
      "cell_type": "code",
      "metadata": {
        "colab": {
          "base_uri": "https://localhost:8080/",
          "height": 418
        },
        "id": "f9PtfJeLHFOi",
        "outputId": "3ac6697a-54f8-4c77-f06f-01b5e08f25ef"
      },
      "source": [
        "#Viewing the data of date columns in the new format YYYY-MM-DD\n",
        "df[['clear_date','posting_date','document_create_date','document_create_date.1','due_in_date','baseline_create_date']]"
      ],
      "execution_count": 7,
      "outputs": [
        {
          "output_type": "execute_result",
          "data": {
            "text/html": [
              "<div>\n",
              "<style scoped>\n",
              "    .dataframe tbody tr th:only-of-type {\n",
              "        vertical-align: middle;\n",
              "    }\n",
              "\n",
              "    .dataframe tbody tr th {\n",
              "        vertical-align: top;\n",
              "    }\n",
              "\n",
              "    .dataframe thead th {\n",
              "        text-align: right;\n",
              "    }\n",
              "</style>\n",
              "<table border=\"1\" class=\"dataframe\">\n",
              "  <thead>\n",
              "    <tr style=\"text-align: right;\">\n",
              "      <th></th>\n",
              "      <th>clear_date</th>\n",
              "      <th>posting_date</th>\n",
              "      <th>document_create_date</th>\n",
              "      <th>document_create_date.1</th>\n",
              "      <th>due_in_date</th>\n",
              "      <th>baseline_create_date</th>\n",
              "    </tr>\n",
              "  </thead>\n",
              "  <tbody>\n",
              "    <tr>\n",
              "      <th>0</th>\n",
              "      <td>2019-11-27</td>\n",
              "      <td>2019-11-01</td>\n",
              "      <td>2019-10-28</td>\n",
              "      <td>2019-11-01</td>\n",
              "      <td>2019-11-01</td>\n",
              "      <td>2019-11-01</td>\n",
              "    </tr>\n",
              "    <tr>\n",
              "      <th>1</th>\n",
              "      <td>NaT</td>\n",
              "      <td>2020-03-01</td>\n",
              "      <td>2020-02-29</td>\n",
              "      <td>2020-03-01</td>\n",
              "      <td>2020-03-16</td>\n",
              "      <td>2020-03-01</td>\n",
              "    </tr>\n",
              "    <tr>\n",
              "      <th>2</th>\n",
              "      <td>2019-09-16</td>\n",
              "      <td>2019-08-30</td>\n",
              "      <td>2019-08-23</td>\n",
              "      <td>2019-08-30</td>\n",
              "      <td>2019-09-14</td>\n",
              "      <td>2019-08-30</td>\n",
              "    </tr>\n",
              "    <tr>\n",
              "      <th>3</th>\n",
              "      <td>2019-07-30</td>\n",
              "      <td>2019-07-16</td>\n",
              "      <td>2019-07-15</td>\n",
              "      <td>2019-07-16</td>\n",
              "      <td>2019-07-31</td>\n",
              "      <td>2019-07-16</td>\n",
              "    </tr>\n",
              "    <tr>\n",
              "      <th>4</th>\n",
              "      <td>2019-02-28</td>\n",
              "      <td>2019-02-13</td>\n",
              "      <td>2019-02-13</td>\n",
              "      <td>2019-02-13</td>\n",
              "      <td>2019-02-24</td>\n",
              "      <td>2019-02-14</td>\n",
              "    </tr>\n",
              "    <tr>\n",
              "      <th>...</th>\n",
              "      <td>...</td>\n",
              "      <td>...</td>\n",
              "      <td>...</td>\n",
              "      <td>...</td>\n",
              "      <td>...</td>\n",
              "      <td>...</td>\n",
              "    </tr>\n",
              "    <tr>\n",
              "      <th>49995</th>\n",
              "      <td>2019-08-16</td>\n",
              "      <td>2019-07-31</td>\n",
              "      <td>2019-08-01</td>\n",
              "      <td>2019-07-31</td>\n",
              "      <td>2019-08-15</td>\n",
              "      <td>2019-07-31</td>\n",
              "    </tr>\n",
              "    <tr>\n",
              "      <th>49996</th>\n",
              "      <td>2019-12-27</td>\n",
              "      <td>2019-12-13</td>\n",
              "      <td>2019-12-14</td>\n",
              "      <td>2019-12-13</td>\n",
              "      <td>2019-12-28</td>\n",
              "      <td>2019-12-13</td>\n",
              "    </tr>\n",
              "    <tr>\n",
              "      <th>49997</th>\n",
              "      <td>2019-12-24</td>\n",
              "      <td>2019-12-13</td>\n",
              "      <td>2019-12-13</td>\n",
              "      <td>2019-12-13</td>\n",
              "      <td>2019-12-28</td>\n",
              "      <td>2019-12-13</td>\n",
              "    </tr>\n",
              "    <tr>\n",
              "      <th>49998</th>\n",
              "      <td>2020-03-17</td>\n",
              "      <td>2020-02-02</td>\n",
              "      <td>2020-01-31</td>\n",
              "      <td>2020-02-02</td>\n",
              "      <td>2020-03-18</td>\n",
              "      <td>2020-02-02</td>\n",
              "    </tr>\n",
              "    <tr>\n",
              "      <th>49999</th>\n",
              "      <td>2019-08-29</td>\n",
              "      <td>2019-08-14</td>\n",
              "      <td>2019-08-12</td>\n",
              "      <td>2019-08-14</td>\n",
              "      <td>2019-08-29</td>\n",
              "      <td>2019-08-14</td>\n",
              "    </tr>\n",
              "  </tbody>\n",
              "</table>\n",
              "<p>50000 rows × 6 columns</p>\n",
              "</div>"
            ],
            "text/plain": [
              "      clear_date posting_date  ... due_in_date baseline_create_date\n",
              "0     2019-11-27   2019-11-01  ...  2019-11-01           2019-11-01\n",
              "1            NaT   2020-03-01  ...  2020-03-16           2020-03-01\n",
              "2     2019-09-16   2019-08-30  ...  2019-09-14           2019-08-30\n",
              "3     2019-07-30   2019-07-16  ...  2019-07-31           2019-07-16\n",
              "4     2019-02-28   2019-02-13  ...  2019-02-24           2019-02-14\n",
              "...          ...          ...  ...         ...                  ...\n",
              "49995 2019-08-16   2019-07-31  ...  2019-08-15           2019-07-31\n",
              "49996 2019-12-27   2019-12-13  ...  2019-12-28           2019-12-13\n",
              "49997 2019-12-24   2019-12-13  ...  2019-12-28           2019-12-13\n",
              "49998 2020-03-17   2020-02-02  ...  2020-03-18           2020-02-02\n",
              "49999 2019-08-29   2019-08-14  ...  2019-08-29           2019-08-14\n",
              "\n",
              "[50000 rows x 6 columns]"
            ]
          },
          "metadata": {
            "tags": []
          },
          "execution_count": 7
        }
      ]
    },
    {
      "cell_type": "code",
      "metadata": {
        "colab": {
          "base_uri": "https://localhost:8080/"
        },
        "id": "SBAOzEXRInab",
        "outputId": "f52655e1-7b39-454b-9d43-e9ade368e6e8"
      },
      "source": [
        "df.isnull().sum()"
      ],
      "execution_count": 8,
      "outputs": [
        {
          "output_type": "execute_result",
          "data": {
            "text/plain": [
              "business_code                 0\n",
              "cust_number                   0\n",
              "name_customer                 0\n",
              "clear_date                10000\n",
              "buisness_year                 0\n",
              "doc_id                        0\n",
              "posting_date                  0\n",
              "document_create_date          0\n",
              "document_create_date.1        0\n",
              "due_in_date                   0\n",
              "invoice_currency              0\n",
              "document type                 0\n",
              "posting_id                    0\n",
              "area_business             50000\n",
              "total_open_amount             0\n",
              "baseline_create_date          0\n",
              "cust_payment_terms            0\n",
              "invoice_id                    1\n",
              "isOpen                        0\n",
              "dtype: int64"
            ]
          },
          "metadata": {
            "tags": []
          },
          "execution_count": 8
        }
      ]
    },
    {
      "cell_type": "code",
      "metadata": {
        "id": "6IU6SJ7PHFRi"
      },
      "source": [
        "#Droping the 'area_business' column since it holds all NULL values\n",
        "df.drop('area_business',axis=1, inplace=True)"
      ],
      "execution_count": 9,
      "outputs": []
    },
    {
      "cell_type": "code",
      "metadata": {
        "colab": {
          "base_uri": "https://localhost:8080/",
          "height": 117
        },
        "id": "87VLog2xHFT9",
        "outputId": "427d6179-c5d9-49e2-a4c0-63636c20c5a1"
      },
      "source": [
        "#Identifying the row which contains a NULL value for invoice_id\n",
        "df.loc[df.invoice_id.isnull(),:]"
      ],
      "execution_count": 10,
      "outputs": [
        {
          "output_type": "execute_result",
          "data": {
            "text/html": [
              "<div>\n",
              "<style scoped>\n",
              "    .dataframe tbody tr th:only-of-type {\n",
              "        vertical-align: middle;\n",
              "    }\n",
              "\n",
              "    .dataframe tbody tr th {\n",
              "        vertical-align: top;\n",
              "    }\n",
              "\n",
              "    .dataframe thead th {\n",
              "        text-align: right;\n",
              "    }\n",
              "</style>\n",
              "<table border=\"1\" class=\"dataframe\">\n",
              "  <thead>\n",
              "    <tr style=\"text-align: right;\">\n",
              "      <th></th>\n",
              "      <th>business_code</th>\n",
              "      <th>cust_number</th>\n",
              "      <th>name_customer</th>\n",
              "      <th>clear_date</th>\n",
              "      <th>buisness_year</th>\n",
              "      <th>doc_id</th>\n",
              "      <th>posting_date</th>\n",
              "      <th>document_create_date</th>\n",
              "      <th>document_create_date.1</th>\n",
              "      <th>due_in_date</th>\n",
              "      <th>invoice_currency</th>\n",
              "      <th>document type</th>\n",
              "      <th>posting_id</th>\n",
              "      <th>total_open_amount</th>\n",
              "      <th>baseline_create_date</th>\n",
              "      <th>cust_payment_terms</th>\n",
              "      <th>invoice_id</th>\n",
              "      <th>isOpen</th>\n",
              "    </tr>\n",
              "  </thead>\n",
              "  <tbody>\n",
              "    <tr>\n",
              "      <th>35460</th>\n",
              "      <td>CA02</td>\n",
              "      <td>0140104429</td>\n",
              "      <td>COSTCO co</td>\n",
              "      <td>2019-05-22</td>\n",
              "      <td>2019.0</td>\n",
              "      <td>9.500000e+09</td>\n",
              "      <td>2019-03-29</td>\n",
              "      <td>2019-03-29</td>\n",
              "      <td>2019-03-22</td>\n",
              "      <td>2019-04-01</td>\n",
              "      <td>CAD</td>\n",
              "      <td>X2</td>\n",
              "      <td>1.0</td>\n",
              "      <td>5353.2</td>\n",
              "      <td>2019-03-22</td>\n",
              "      <td>CA10</td>\n",
              "      <td>NaN</td>\n",
              "      <td>0</td>\n",
              "    </tr>\n",
              "  </tbody>\n",
              "</table>\n",
              "</div>"
            ],
            "text/plain": [
              "      business_code cust_number  ... invoice_id isOpen\n",
              "35460          CA02  0140104429  ...        NaN      0\n",
              "\n",
              "[1 rows x 18 columns]"
            ]
          },
          "metadata": {
            "tags": []
          },
          "execution_count": 10
        }
      ]
    },
    {
      "cell_type": "code",
      "metadata": {
        "id": "7R3LEvaeHFWk"
      },
      "source": [
        "#Droping the row containing NULL in invoice_id\n",
        "df.drop([35460],axis=0,inplace=True)"
      ],
      "execution_count": 11,
      "outputs": []
    },
    {
      "cell_type": "code",
      "metadata": {
        "colab": {
          "base_uri": "https://localhost:8080/"
        },
        "id": "IlTzhlboHFZV",
        "outputId": "b656c36a-741c-4383-efc2-c562ac2bbc4a"
      },
      "source": [
        "#Checking the count of NULL values in each column\n",
        "df.isnull().sum()"
      ],
      "execution_count": 12,
      "outputs": [
        {
          "output_type": "execute_result",
          "data": {
            "text/plain": [
              "business_code                 0\n",
              "cust_number                   0\n",
              "name_customer                 0\n",
              "clear_date                10000\n",
              "buisness_year                 0\n",
              "doc_id                        0\n",
              "posting_date                  0\n",
              "document_create_date          0\n",
              "document_create_date.1        0\n",
              "due_in_date                   0\n",
              "invoice_currency              0\n",
              "document type                 0\n",
              "posting_id                    0\n",
              "total_open_amount             0\n",
              "baseline_create_date          0\n",
              "cust_payment_terms            0\n",
              "invoice_id                    0\n",
              "isOpen                        0\n",
              "dtype: int64"
            ]
          },
          "metadata": {
            "tags": []
          },
          "execution_count": 12
        }
      ]
    },
    {
      "cell_type": "code",
      "metadata": {
        "colab": {
          "base_uri": "https://localhost:8080/"
        },
        "id": "Rb-dltSHJYEI",
        "outputId": "486daec9-4411-47a9-cd4f-b80e790b75b4"
      },
      "source": [
        "#Checking for count of duplicate rows in the entire dataset\n",
        "df.duplicated().sum()"
      ],
      "execution_count": 13,
      "outputs": [
        {
          "output_type": "execute_result",
          "data": {
            "text/plain": [
              "1128"
            ]
          },
          "metadata": {
            "tags": []
          },
          "execution_count": 13
        }
      ]
    },
    {
      "cell_type": "code",
      "metadata": {
        "id": "XQCsFZghJYHf"
      },
      "source": [
        "#Droping the duplicate rows and creating a new DataFrame 'df1' \n",
        "df1=df.drop_duplicates()"
      ],
      "execution_count": 14,
      "outputs": []
    },
    {
      "cell_type": "code",
      "metadata": {
        "colab": {
          "base_uri": "https://localhost:8080/"
        },
        "id": "3KhL-G0BJdMs",
        "outputId": "5e36990a-38fb-42e4-e11e-248f5193639f"
      },
      "source": [
        "#Checking the number of rows\n",
        "#[No of rows in df1(48871) + No of duplicate rows(1128) + No of row having 'invoice_id' as NULL(1) =Total No of Rows in the Initial Dataset(50000)]\n",
        "df1.shape"
      ],
      "execution_count": 15,
      "outputs": [
        {
          "output_type": "execute_result",
          "data": {
            "text/plain": [
              "(48871, 18)"
            ]
          },
          "metadata": {
            "tags": []
          },
          "execution_count": 15
        }
      ]
    },
    {
      "cell_type": "code",
      "metadata": {
        "colab": {
          "base_uri": "https://localhost:8080/"
        },
        "id": "jByiJK-QJTEW",
        "outputId": "04f075a2-7538-4617-f7c6-b7507f449c14"
      },
      "source": [
        "#Identifying the columns with constant values, here, 'posting_id','document type'.\n",
        "df1.apply(pd.Series.nunique)"
      ],
      "execution_count": 16,
      "outputs": [
        {
          "output_type": "execute_result",
          "data": {
            "text/plain": [
              "business_code                 6\n",
              "cust_number                1419\n",
              "name_customer              4199\n",
              "clear_date                  393\n",
              "buisness_year                 2\n",
              "doc_id                    48871\n",
              "posting_date                504\n",
              "document_create_date        506\n",
              "document_create_date.1      504\n",
              "due_in_date                 548\n",
              "invoice_currency              2\n",
              "document type                 1\n",
              "posting_id                    1\n",
              "total_open_amount         44357\n",
              "baseline_create_date        504\n",
              "cust_payment_terms           72\n",
              "invoice_id                48871\n",
              "isOpen                        2\n",
              "dtype: int64"
            ]
          },
          "metadata": {
            "tags": []
          },
          "execution_count": 16
        }
      ]
    },
    {
      "cell_type": "code",
      "metadata": {
        "id": "3HwKSkfXJk54"
      },
      "source": [
        "#Removing the constant column 'posting_id','document type'\n",
        "df1 = df1.loc[:,df1.apply(pd.Series.nunique) != 1]"
      ],
      "execution_count": 17,
      "outputs": []
    },
    {
      "cell_type": "code",
      "metadata": {
        "colab": {
          "base_uri": "https://localhost:8080/"
        },
        "id": "XG33ZV02Jk9K",
        "outputId": "76afdb90-a8fc-4753-f405-c023626c0793"
      },
      "source": [
        "#Checking the number of Columns, here 16 after removing the two Columns('posting_id','document type') having Constant values\n",
        "df1.shape"
      ],
      "execution_count": 18,
      "outputs": [
        {
          "output_type": "execute_result",
          "data": {
            "text/plain": [
              "(48871, 16)"
            ]
          },
          "metadata": {
            "tags": []
          },
          "execution_count": 18
        }
      ]
    },
    {
      "cell_type": "code",
      "metadata": {
        "colab": {
          "base_uri": "https://localhost:8080/",
          "height": 488
        },
        "id": "vWjDO96NJytL",
        "outputId": "d0b65fde-996b-4e26-bef0-d1619081a667"
      },
      "source": [
        "#Sorting the values on the basis of 'posting_date'\n",
        "df1.sort_values('posting_date')"
      ],
      "execution_count": 19,
      "outputs": [
        {
          "output_type": "execute_result",
          "data": {
            "text/html": [
              "<div>\n",
              "<style scoped>\n",
              "    .dataframe tbody tr th:only-of-type {\n",
              "        vertical-align: middle;\n",
              "    }\n",
              "\n",
              "    .dataframe tbody tr th {\n",
              "        vertical-align: top;\n",
              "    }\n",
              "\n",
              "    .dataframe thead th {\n",
              "        text-align: right;\n",
              "    }\n",
              "</style>\n",
              "<table border=\"1\" class=\"dataframe\">\n",
              "  <thead>\n",
              "    <tr style=\"text-align: right;\">\n",
              "      <th></th>\n",
              "      <th>business_code</th>\n",
              "      <th>cust_number</th>\n",
              "      <th>name_customer</th>\n",
              "      <th>clear_date</th>\n",
              "      <th>buisness_year</th>\n",
              "      <th>doc_id</th>\n",
              "      <th>posting_date</th>\n",
              "      <th>document_create_date</th>\n",
              "      <th>document_create_date.1</th>\n",
              "      <th>due_in_date</th>\n",
              "      <th>invoice_currency</th>\n",
              "      <th>total_open_amount</th>\n",
              "      <th>baseline_create_date</th>\n",
              "      <th>cust_payment_terms</th>\n",
              "      <th>invoice_id</th>\n",
              "      <th>isOpen</th>\n",
              "    </tr>\n",
              "  </thead>\n",
              "  <tbody>\n",
              "    <tr>\n",
              "      <th>8475</th>\n",
              "      <td>U001</td>\n",
              "      <td>0200707822</td>\n",
              "      <td>PUBLI trust</td>\n",
              "      <td>2019-01-14</td>\n",
              "      <td>2019.0</td>\n",
              "      <td>1.928533e+09</td>\n",
              "      <td>2018-12-30</td>\n",
              "      <td>2018-12-29</td>\n",
              "      <td>2018-12-30</td>\n",
              "      <td>2019-01-14</td>\n",
              "      <td>USD</td>\n",
              "      <td>24444.04</td>\n",
              "      <td>2018-12-30</td>\n",
              "      <td>NAA8</td>\n",
              "      <td>1.928533e+09</td>\n",
              "      <td>0</td>\n",
              "    </tr>\n",
              "    <tr>\n",
              "      <th>38901</th>\n",
              "      <td>U001</td>\n",
              "      <td>0200769623</td>\n",
              "      <td>WAL-MAR</td>\n",
              "      <td>2019-01-09</td>\n",
              "      <td>2019.0</td>\n",
              "      <td>1.928538e+09</td>\n",
              "      <td>2018-12-30</td>\n",
              "      <td>2018-12-29</td>\n",
              "      <td>2018-12-30</td>\n",
              "      <td>2019-01-14</td>\n",
              "      <td>USD</td>\n",
              "      <td>51600.07</td>\n",
              "      <td>2018-12-30</td>\n",
              "      <td>NAH4</td>\n",
              "      <td>1.928538e+09</td>\n",
              "      <td>0</td>\n",
              "    </tr>\n",
              "    <tr>\n",
              "      <th>20835</th>\n",
              "      <td>U013</td>\n",
              "      <td>0140103713</td>\n",
              "      <td>PRIM foundation</td>\n",
              "      <td>2019-01-22</td>\n",
              "      <td>2019.0</td>\n",
              "      <td>1.991819e+09</td>\n",
              "      <td>2018-12-30</td>\n",
              "      <td>2018-12-26</td>\n",
              "      <td>2018-12-30</td>\n",
              "      <td>2019-01-29</td>\n",
              "      <td>USD</td>\n",
              "      <td>61317.91</td>\n",
              "      <td>2018-12-30</td>\n",
              "      <td>NAVE</td>\n",
              "      <td>1.991819e+09</td>\n",
              "      <td>0</td>\n",
              "    </tr>\n",
              "    <tr>\n",
              "      <th>567</th>\n",
              "      <td>U001</td>\n",
              "      <td>0200769623</td>\n",
              "      <td>WAL-MAR corp</td>\n",
              "      <td>2019-01-09</td>\n",
              "      <td>2019.0</td>\n",
              "      <td>1.928539e+09</td>\n",
              "      <td>2018-12-30</td>\n",
              "      <td>2018-12-29</td>\n",
              "      <td>2018-12-30</td>\n",
              "      <td>2019-01-14</td>\n",
              "      <td>USD</td>\n",
              "      <td>51583.16</td>\n",
              "      <td>2018-12-30</td>\n",
              "      <td>NAH4</td>\n",
              "      <td>1.928539e+09</td>\n",
              "      <td>0</td>\n",
              "    </tr>\n",
              "    <tr>\n",
              "      <th>47090</th>\n",
              "      <td>U001</td>\n",
              "      <td>0200769623</td>\n",
              "      <td>WAL-MAR foundation</td>\n",
              "      <td>2019-01-09</td>\n",
              "      <td>2019.0</td>\n",
              "      <td>1.928538e+09</td>\n",
              "      <td>2018-12-30</td>\n",
              "      <td>2018-12-29</td>\n",
              "      <td>2018-12-30</td>\n",
              "      <td>2019-01-14</td>\n",
              "      <td>USD</td>\n",
              "      <td>44346.56</td>\n",
              "      <td>2018-12-30</td>\n",
              "      <td>NAH4</td>\n",
              "      <td>1.928538e+09</td>\n",
              "      <td>0</td>\n",
              "    </tr>\n",
              "    <tr>\n",
              "      <th>...</th>\n",
              "      <td>...</td>\n",
              "      <td>...</td>\n",
              "      <td>...</td>\n",
              "      <td>...</td>\n",
              "      <td>...</td>\n",
              "      <td>...</td>\n",
              "      <td>...</td>\n",
              "      <td>...</td>\n",
              "      <td>...</td>\n",
              "      <td>...</td>\n",
              "      <td>...</td>\n",
              "      <td>...</td>\n",
              "      <td>...</td>\n",
              "      <td>...</td>\n",
              "      <td>...</td>\n",
              "      <td>...</td>\n",
              "    </tr>\n",
              "    <tr>\n",
              "      <th>5422</th>\n",
              "      <td>CA02</td>\n",
              "      <td>0100027744</td>\n",
              "      <td>OMEGA AD trust</td>\n",
              "      <td>NaT</td>\n",
              "      <td>2020.0</td>\n",
              "      <td>2.960634e+09</td>\n",
              "      <td>2020-05-16</td>\n",
              "      <td>2020-05-16</td>\n",
              "      <td>2020-05-16</td>\n",
              "      <td>2020-05-16</td>\n",
              "      <td>CAD</td>\n",
              "      <td>1440.00</td>\n",
              "      <td>2020-05-16</td>\n",
              "      <td>CAB1</td>\n",
              "      <td>2.960634e+09</td>\n",
              "      <td>1</td>\n",
              "    </tr>\n",
              "    <tr>\n",
              "      <th>1980</th>\n",
              "      <td>U001</td>\n",
              "      <td>0200759878</td>\n",
              "      <td>SA associates</td>\n",
              "      <td>NaT</td>\n",
              "      <td>2020.0</td>\n",
              "      <td>1.930897e+09</td>\n",
              "      <td>2020-05-17</td>\n",
              "      <td>2020-05-13</td>\n",
              "      <td>2020-05-17</td>\n",
              "      <td>2020-06-01</td>\n",
              "      <td>USD</td>\n",
              "      <td>22835.50</td>\n",
              "      <td>2020-05-17</td>\n",
              "      <td>NAH4</td>\n",
              "      <td>1.930897e+09</td>\n",
              "      <td>1</td>\n",
              "    </tr>\n",
              "    <tr>\n",
              "      <th>48814</th>\n",
              "      <td>U001</td>\n",
              "      <td>100026809</td>\n",
              "      <td>PRES trust</td>\n",
              "      <td>NaT</td>\n",
              "      <td>2020.0</td>\n",
              "      <td>1.930917e+09</td>\n",
              "      <td>2020-05-19</td>\n",
              "      <td>2020-05-19</td>\n",
              "      <td>2020-05-19</td>\n",
              "      <td>2020-05-29</td>\n",
              "      <td>USD</td>\n",
              "      <td>7043.75</td>\n",
              "      <td>2020-05-19</td>\n",
              "      <td>NA10</td>\n",
              "      <td>1.930917e+09</td>\n",
              "      <td>1</td>\n",
              "    </tr>\n",
              "    <tr>\n",
              "      <th>21786</th>\n",
              "      <td>CA02</td>\n",
              "      <td>0140105785</td>\n",
              "      <td>SHOPPE</td>\n",
              "      <td>NaT</td>\n",
              "      <td>2020.0</td>\n",
              "      <td>2.960636e+09</td>\n",
              "      <td>2020-05-19</td>\n",
              "      <td>2020-05-19</td>\n",
              "      <td>2020-05-19</td>\n",
              "      <td>2020-05-29</td>\n",
              "      <td>CAD</td>\n",
              "      <td>935.09</td>\n",
              "      <td>2020-05-19</td>\n",
              "      <td>CA10</td>\n",
              "      <td>2.960636e+09</td>\n",
              "      <td>1</td>\n",
              "    </tr>\n",
              "    <tr>\n",
              "      <th>18554</th>\n",
              "      <td>U013</td>\n",
              "      <td>0100046469</td>\n",
              "      <td>FRANQUICI</td>\n",
              "      <td>NaT</td>\n",
              "      <td>2020.0</td>\n",
              "      <td>1.991844e+09</td>\n",
              "      <td>2020-05-25</td>\n",
              "      <td>2020-05-21</td>\n",
              "      <td>2020-05-25</td>\n",
              "      <td>2020-05-25</td>\n",
              "      <td>USD</td>\n",
              "      <td>13901.00</td>\n",
              "      <td>2020-05-25</td>\n",
              "      <td>NAUP</td>\n",
              "      <td>1.991844e+09</td>\n",
              "      <td>1</td>\n",
              "    </tr>\n",
              "  </tbody>\n",
              "</table>\n",
              "<p>48871 rows × 16 columns</p>\n",
              "</div>"
            ],
            "text/plain": [
              "      business_code cust_number  ...    invoice_id isOpen\n",
              "8475           U001  0200707822  ...  1.928533e+09      0\n",
              "38901          U001  0200769623  ...  1.928538e+09      0\n",
              "20835          U013  0140103713  ...  1.991819e+09      0\n",
              "567            U001  0200769623  ...  1.928539e+09      0\n",
              "47090          U001  0200769623  ...  1.928538e+09      0\n",
              "...             ...         ...  ...           ...    ...\n",
              "5422           CA02  0100027744  ...  2.960634e+09      1\n",
              "1980           U001  0200759878  ...  1.930897e+09      1\n",
              "48814          U001   100026809  ...  1.930917e+09      1\n",
              "21786          CA02  0140105785  ...  2.960636e+09      1\n",
              "18554          U013  0100046469  ...  1.991844e+09      1\n",
              "\n",
              "[48871 rows x 16 columns]"
            ]
          },
          "metadata": {
            "tags": []
          },
          "execution_count": 19
        }
      ]
    },
    {
      "cell_type": "code",
      "metadata": {
        "id": "7leNISMlJyvr"
      },
      "source": [
        "#Splitting the Dataset into Test(where 'clear_date' is NULL i.e The customer is yet to make payment) and Train datasets(where 'clear_date' is Present i.e Customer had already paid)\n",
        "main_test=df1[df1['clear_date'].isnull()]\n",
        "main_train=df1[df1['clear_date'].notnull()]"
      ],
      "execution_count": 20,
      "outputs": []
    },
    {
      "cell_type": "code",
      "metadata": {
        "colab": {
          "base_uri": "https://localhost:8080/"
        },
        "id": "X6yL5HOfJyys",
        "outputId": "813c4313-13e2-4056-8643-8356c8feed50"
      },
      "source": [
        "#Identifying the columns with constant values, here, 'isOpen'\n",
        "main_train.apply(pd.Series.nunique)"
      ],
      "execution_count": 21,
      "outputs": [
        {
          "output_type": "execute_result",
          "data": {
            "text/plain": [
              "business_code                 6\n",
              "cust_number                1336\n",
              "name_customer              3950\n",
              "clear_date                  393\n",
              "buisness_year                 2\n",
              "doc_id                    39190\n",
              "posting_date                423\n",
              "document_create_date        426\n",
              "document_create_date.1      423\n",
              "due_in_date                 489\n",
              "invoice_currency              2\n",
              "total_open_amount         35708\n",
              "baseline_create_date        429\n",
              "cust_payment_terms           70\n",
              "invoice_id                39190\n",
              "isOpen                        1\n",
              "dtype: int64"
            ]
          },
          "metadata": {
            "tags": []
          },
          "execution_count": 21
        }
      ]
    },
    {
      "cell_type": "code",
      "metadata": {
        "id": "SvNnnohcJy2D"
      },
      "source": [
        "#Removing the constant column 'isOpen'\n",
        "main_train = main_train.loc[:,main_train.apply(pd.Series.nunique) != 1]"
      ],
      "execution_count": 22,
      "outputs": []
    },
    {
      "cell_type": "markdown",
      "metadata": {
        "id": "RjkC4Lu3K6K-"
      },
      "source": [
        "**END Of Preprocessing**\n"
      ]
    },
    {
      "cell_type": "markdown",
      "metadata": {
        "id": "ffzU4AtOLIX8"
      },
      "source": [
        "#**Start of EDA** "
      ]
    },
    {
      "cell_type": "code",
      "metadata": {
        "id": "NAih1lqsKtNI"
      },
      "source": [
        "#Calculating delay in payment by subtracting due_in_date from clear_date\n",
        "main_train['delay']=(main_train['clear_date']-main_train['due_in_date']).dt.days.astype('int16')"
      ],
      "execution_count": 23,
      "outputs": []
    },
    {
      "cell_type": "code",
      "metadata": {
        "colab": {
          "base_uri": "https://localhost:8080/",
          "height": 352
        },
        "id": "48ZNj2aFLRS-",
        "outputId": "2ff64fc5-df99-4e86-b79d-1ba3ee460db1"
      },
      "source": [
        "#Checking for outliers/skew in the Delay\n",
        "sns.distplot(main_train['delay'])"
      ],
      "execution_count": 24,
      "outputs": [
        {
          "output_type": "stream",
          "text": [
            "/usr/local/lib/python3.7/dist-packages/seaborn/distributions.py:2557: FutureWarning: `distplot` is a deprecated function and will be removed in a future version. Please adapt your code to use either `displot` (a figure-level function with similar flexibility) or `histplot` (an axes-level function for histograms).\n",
            "  warnings.warn(msg, FutureWarning)\n"
          ],
          "name": "stderr"
        },
        {
          "output_type": "execute_result",
          "data": {
            "text/plain": [
              "<matplotlib.axes._subplots.AxesSubplot at 0x7fac86e21090>"
            ]
          },
          "metadata": {
            "tags": []
          },
          "execution_count": 24
        },
        {
          "output_type": "display_data",
          "data": {
            "image/png": "[encoded data removed]",
            "text/plain": [
              "<Figure size 432x288 with 1 Axes>"
            ]
          },
          "metadata": {
            "tags": [],
            "needs_background": "light"
          }
        }
      ]
    },
    {
      "cell_type": "code",
      "metadata": {
        "id": "esmEFO15LW10"
      },
      "source": [
        "#Skew and outliers are present so need to remove them\n",
        "min_threshold, max_threshold=main_train.delay.quantile([0.001,0.999])\n",
        "min_threshold, max_threshold\n",
        "main_train=main_train[(main_train.delay<max_threshold) & (main_train.delay>min_threshold)]"
      ],
      "execution_count": 25,
      "outputs": []
    },
    {
      "cell_type": "code",
      "metadata": {
        "colab": {
          "base_uri": "https://localhost:8080/",
          "height": 352
        },
        "id": "YHlnovOaLW5G",
        "outputId": "96581dfe-9615-429d-d13f-fe2a66d183c8"
      },
      "source": [
        "#Plotting Delay after removing outliers and reducing the skew\n",
        "sns.distplot(main_train['delay'])"
      ],
      "execution_count": 26,
      "outputs": [
        {
          "output_type": "stream",
          "text": [
            "/usr/local/lib/python3.7/dist-packages/seaborn/distributions.py:2557: FutureWarning: `distplot` is a deprecated function and will be removed in a future version. Please adapt your code to use either `displot` (a figure-level function with similar flexibility) or `histplot` (an axes-level function for histograms).\n",
            "  warnings.warn(msg, FutureWarning)\n"
          ],
          "name": "stderr"
        },
        {
          "output_type": "execute_result",
          "data": {
            "text/plain": [
              "<matplotlib.axes._subplots.AxesSubplot at 0x7fac7b7c9510>"
            ]
          },
          "metadata": {
            "tags": []
          },
          "execution_count": 26
        },
        {
          "output_type": "display_data",
          "data": {
            "image/png": "[encoded data removed]",
            "text/plain": [
              "<Figure size 432x288 with 1 Axes>"
            ]
          },
          "metadata": {
            "tags": [],
            "needs_background": "light"
          }
        }
      ]
    },
    {
      "cell_type": "code",
      "metadata": {
        "id": "gdS-daIoLRW6"
      },
      "source": [
        "#Splitting the main_train data frame into X and Y \n",
        "Y=pd.DataFrame(main_train['delay'])\n",
        "X=main_train.drop(['delay'],axis=1)"
      ],
      "execution_count": 27,
      "outputs": []
    },
    {
      "cell_type": "code",
      "metadata": {
        "id": "wSAZbDlXLRZ9"
      },
      "source": [
        "#Splitting X and Y further into train(80%) and validate(20%) data sets \n",
        "from sklearn.model_selection import train_test_split\n",
        "X_train,X_val,Y_train,Y_val=train_test_split(X,Y,test_size=0.2,random_state=0,shuffle=False)"
      ],
      "execution_count": 28,
      "outputs": []
    },
    {
      "cell_type": "markdown",
      "metadata": {
        "id": "i1gmncHnLy97"
      },
      "source": [
        "**END of EDA**"
      ]
    },
    {
      "cell_type": "markdown",
      "metadata": {
        "id": "CM4VuWQdL7dT"
      },
      "source": [
        "#**Start of Feature Engineering**"
      ]
    },
    {
      "cell_type": "code",
      "metadata": {
        "id": "tnOeIqYDKtQm"
      },
      "source": [
        "from sklearn.preprocessing import LabelEncoder\n",
        "object_columns = ['business_code','cust_number','name_customer','invoice_currency','cust_payment_terms']\n",
        "date_columns=['clear_date','posting_date','document_create_date','document_create_date.1','due_in_date','baseline_create_date']\n",
        "\n",
        "# make an encoder object\n",
        "encoder = LabelEncoder()\n",
        "\n",
        "# Adding encoded columns and removing normal object_columns\n",
        "for col in object_columns:\n",
        "  enc=col+'_enc'\n",
        "  encoder.fit(pd.concat([X_train[col], X_val[col]], axis=0, sort=False))\n",
        "  #Adding encoded columns\n",
        "  X_train[enc] = encoder.transform(X_train[col])\n",
        "  X_val[enc] = encoder.transform(X_val[col])\n",
        "  #Dropping columns which are already encoded \n",
        "  X_train.drop(col,axis=1,inplace=True)\n",
        "  X_val.drop(col,axis=1,inplace=True)\n",
        "\n",
        "# Adding encoded columns and removing normal date_columns\n",
        "for col in date_columns:\n",
        "  enc=col+'_enc'\n",
        "  #Adding encoded columns  \n",
        "  X_train[enc]=(X_train[col]-pd.to_datetime('1970-01-01')).dt.days.astype('int16')\n",
        "  X_val[enc]=(X_val[col]-pd.to_datetime('1970-01-01')).dt.days.astype('int16')\n",
        "  #Dropping columns which are already encoded \n",
        "  X_train.drop(col,axis=1,inplace=True)\n",
        "  X_val.drop(col,axis=1,inplace=True)"
      ],
      "execution_count": null,
      "outputs": []
    },
    {
      "cell_type": "code",
      "metadata": {
        "colab": {
          "base_uri": "https://localhost:8080/",
          "height": 876
        },
        "id": "XWmlBp14LuSR",
        "outputId": "0cfdb963-fb18-4563-f2cf-71a640d746ad"
      },
      "source": [
        "#Plotting Correlation\n",
        "colormap = plt.cm.RdBu\n",
        "plt.figure(figsize=(14,12))\n",
        "plt.title('Corelation of Features',y=1.05,size=15)\n",
        "sns.heatmap(X_train.merge(Y_train,on=X_train.index).corr(),linewidths=0.1,vmax=1.0,square=True, cmap=colormap, linecolor='white', annot=True)"
      ],
      "execution_count": 30,
      "outputs": [
        {
          "output_type": "execute_result",
          "data": {
            "text/plain": [
              "<matplotlib.axes._subplots.AxesSubplot at 0x7fac79f0e5d0>"
            ]
          },
          "metadata": {
            "tags": []
          },
          "execution_count": 30
        },
        {
          "output_type": "display_data",
          "data": {
            "image/png": "[encoded data removed]",
            "text/plain": [
              "<Figure size 1008x864 with 2 Axes>"
            ]
          },
          "metadata": {
            "tags": [],
            "needs_background": "light"
          }
        }
      ]
    },
    {
      "cell_type": "code",
      "metadata": {
        "id": "d5cix5KFLuU0"
      },
      "source": [
        "#Observation:\n",
        "# The following fields are highly correlated :\n",
        "#'doc_id','invoice_id','cust_number_enc','invoice_currency_enc',due_in_date_enc','cust_payment_terms_enc'"
      ],
      "execution_count": 31,
      "outputs": []
    },
    {
      "cell_type": "code",
      "metadata": {
        "id": "sZNohrQxLuYB"
      },
      "source": [
        "#Creating the model with the above mentioned 6 fields as driving fields\n",
        "X_train_new=X_train[['doc_id','invoice_id','cust_number_enc','invoice_currency_enc','due_in_date_enc','cust_payment_terms_enc']]\n",
        "X_val_new=X_val[['doc_id','invoice_id','cust_number_enc','invoice_currency_enc','due_in_date_enc','cust_payment_terms_enc']]"
      ],
      "execution_count": 32,
      "outputs": []
    },
    {
      "cell_type": "code",
      "metadata": {
        "colab": {
          "base_uri": "https://localhost:8080/",
          "height": 297
        },
        "id": "XygUdYwCMZyz",
        "outputId": "3bd49136-6221-4337-f9b5-00ea07570a8f"
      },
      "source": [
        "#Plotting delay vs due_in_date_enc to check which model is better\n",
        "sns.scatterplot(data=X_train_new.merge(Y_train,on=X_train_new.index),x='delay', y='due_in_date_enc')"
      ],
      "execution_count": 33,
      "outputs": [
        {
          "output_type": "execute_result",
          "data": {
            "text/plain": [
              "<matplotlib.axes._subplots.AxesSubplot at 0x7fac79854bd0>"
            ]
          },
          "metadata": {
            "tags": []
          },
          "execution_count": 33
        },
        {
          "output_type": "display_data",
          "data": {
            "image/png": "[encoded data removed]",
            "text/plain": [
              "<Figure size 432x288 with 1 Axes>"
            ]
          },
          "metadata": {
            "tags": [],
            "needs_background": "light"
          }
        }
      ]
    },
    {
      "cell_type": "code",
      "metadata": {
        "id": "M0ynfG8LMaa4"
      },
      "source": [
        "#Observation of Scatter Plot:\n",
        "#There is NO Linear Relation so proceeding with Tree Model "
      ],
      "execution_count": 34,
      "outputs": []
    },
    {
      "cell_type": "markdown",
      "metadata": {
        "id": "nRPPQ0cZM59Z"
      },
      "source": [
        "**End of Feature Engineering**"
      ]
    },
    {
      "cell_type": "markdown",
      "metadata": {
        "id": "oiXx4qHfNKYe"
      },
      "source": [
        "#**Start of Machine Learning Model**"
      ]
    },
    {
      "cell_type": "code",
      "metadata": {
        "id": "BSPkKxs8MadG"
      },
      "source": [
        "from sklearn.tree import DecisionTreeRegressor\n",
        "tree_model=DecisionTreeRegressor()"
      ],
      "execution_count": 35,
      "outputs": []
    },
    {
      "cell_type": "code",
      "metadata": {
        "colab": {
          "base_uri": "https://localhost:8080/"
        },
        "id": "UlNu8iIINW8T",
        "outputId": "f7de815e-f115-4c36-d32d-64c54a3369de"
      },
      "source": [
        "#Hyper-parameter Tuning\n",
        "param_dist={\n",
        "    \"min_samples_split\":[1,2,3,5],\n",
        "    \"max_depth\":[1,2,3,4,5,6,7,None],\n",
        "}\n",
        "from sklearn.model_selection import GridSearchCV\n",
        "grid=GridSearchCV(tree_model,param_grid=param_dist,cv=10,n_jobs=-1)\n",
        "grid.fit(X_train_new,Y_train)\n",
        "grid.best_score_,grid.best_params_"
      ],
      "execution_count": 36,
      "outputs": [
        {
          "output_type": "execute_result",
          "data": {
            "text/plain": [
              "(0.4985914073711917, {'max_depth': 7, 'min_samples_split': 2})"
            ]
          },
          "metadata": {
            "tags": []
          },
          "execution_count": 36
        }
      ]
    },
    {
      "cell_type": "code",
      "metadata": {
        "id": "bRyDN4Q0NXSL"
      },
      "source": [
        "#The best parameters are : {'max_depth': 7, 'min_samples_split': 2}\n",
        "tree_model=DecisionTreeRegressor(max_depth=7,min_samples_split=2)\n",
        "tree_model.fit(X_train_new,Y_train)\n",
        "\n",
        "# Predicting the validation set results\n",
        "Tree_predicted_validation=tree_model.predict(X_val_new)"
      ],
      "execution_count": 55,
      "outputs": []
    },
    {
      "cell_type": "code",
      "metadata": {
        "colab": {
          "base_uri": "https://localhost:8080/"
        },
        "id": "LbEqixygP-P-",
        "outputId": "de5a0e3a-4fb8-42b3-9258-b76d39ac8d24"
      },
      "source": [
        "#Calculating the Mean Squared Error, Root Mean Squared Error and r2 score of DecisionTreeRegressor model\n",
        "from sklearn.metrics import mean_squared_error\n",
        "from sklearn.metrics import r2_score\n",
        "import math\n",
        "print(\"Mse:\",mean_squared_error(Y_val,Tree_predicted_validation))\n",
        "print(\"Rmse:\",np.sqrt(mean_squared_error(Y_val,Tree_predicted_validation)))\n",
        "print(\"r2 score:\",(abs(r2_score(Y_val,Tree_predicted_validation)))*100)"
      ],
      "execution_count": 56,
      "outputs": [
        {
          "output_type": "stream",
          "text": [
            "Mse: 50.80330134283377\n",
            "Rmse: 7.127643463504174\n",
            "r2 score: 47.77370899924396\n"
          ],
          "name": "stdout"
        }
      ]
    },
    {
      "cell_type": "code",
      "metadata": {
        "id": "4PoG-I0_Uzwv"
      },
      "source": [
        "#Observation:\n",
        "#DecisionTreeRegressor model is giving an Mse value of 50.80, so trying a different model, here, RandomForestRegressor model"
      ],
      "execution_count": 57,
      "outputs": []
    },
    {
      "cell_type": "code",
      "metadata": {
        "id": "MvmXLVY8QR29"
      },
      "source": [
        "from sklearn.ensemble import RandomForestRegressor\n",
        "clf = RandomForestRegressor()\n",
        "clf.fit(X_train_new,Y_train)\n",
        "\n",
        "# Predicting the validation set results\n",
        "clf_predicted_validation = clf.predict(X_val_new)\n"
      ],
      "execution_count": null,
      "outputs": []
    },
    {
      "cell_type": "code",
      "metadata": {
        "colab": {
          "base_uri": "https://localhost:8080/"
        },
        "id": "4mGSgwuzSQQ4",
        "outputId": "248a382c-0434-4c6e-a4fa-4bd812b3eabb"
      },
      "source": [
        "print(\"Mse:\",mean_squared_error(Y_val,clf_predicted_validation))\n",
        "print(\"Rmse:\",np.sqrt(mean_squared_error(Y_val,clf_predicted_validation)))\n",
        "print(\"r2 score:\",(abs(r2_score(Y_val,clf_predicted_validation)))*100)"
      ],
      "execution_count": 59,
      "outputs": [
        {
          "output_type": "stream",
          "text": [
            "Mse: 46.39331186886559\n",
            "Rmse: 6.811263602949572\n",
            "r2 score: 52.3072213397805\n"
          ],
          "name": "stdout"
        }
      ]
    },
    {
      "cell_type": "code",
      "metadata": {
        "id": "-Y0DOK9pDyQD"
      },
      "source": [
        "#Observation:\n",
        "#DecisionTreeRegressor model is giving an Mse value of 50.80, RandomForestRegressor model is giving an mse value of 46.39\n",
        "#So choosing the RandomForestRegressor model for predicting clear date."
      ],
      "execution_count": 60,
      "outputs": []
    },
    {
      "cell_type": "code",
      "metadata": {
        "colab": {
          "base_uri": "https://localhost:8080/",
          "height": 418
        },
        "id": "gWluGlwbzGWo",
        "outputId": "27178572-c2f8-4492-aebb-6becc3d096b9"
      },
      "source": [
        "#Showing the Actual Clear date and Predicted Clear Date side by side\n",
        "pd.DataFrame(zip(pd.to_datetime('1970-01-01') + pd.to_timedelta(X_val['clear_date_enc'],unit='d'),\n",
        "                 pd.to_datetime('1970-01-01')+pd.to_timedelta((X_val_new['due_in_date_enc']+clf_predicted_validation).astype('int16'),unit='d')),\n",
        "             columns=[\"Actual Clear Date\",\"Predicted Clear Date\"])"
      ],
      "execution_count": 61,
      "outputs": [
        {
          "output_type": "execute_result",
          "data": {
            "text/html": [
              "<div>\n",
              "<style scoped>\n",
              "    .dataframe tbody tr th:only-of-type {\n",
              "        vertical-align: middle;\n",
              "    }\n",
              "\n",
              "    .dataframe tbody tr th {\n",
              "        vertical-align: top;\n",
              "    }\n",
              "\n",
              "    .dataframe thead th {\n",
              "        text-align: right;\n",
              "    }\n",
              "</style>\n",
              "<table border=\"1\" class=\"dataframe\">\n",
              "  <thead>\n",
              "    <tr style=\"text-align: right;\">\n",
              "      <th></th>\n",
              "      <th>Actual Clear Date</th>\n",
              "      <th>Predicted Clear Date</th>\n",
              "    </tr>\n",
              "  </thead>\n",
              "  <tbody>\n",
              "    <tr>\n",
              "      <th>0</th>\n",
              "      <td>2019-12-20</td>\n",
              "      <td>2019-12-18</td>\n",
              "    </tr>\n",
              "    <tr>\n",
              "      <th>1</th>\n",
              "      <td>2019-08-06</td>\n",
              "      <td>2019-08-06</td>\n",
              "    </tr>\n",
              "    <tr>\n",
              "      <th>2</th>\n",
              "      <td>2019-09-06</td>\n",
              "      <td>2019-09-05</td>\n",
              "    </tr>\n",
              "    <tr>\n",
              "      <th>3</th>\n",
              "      <td>2019-12-16</td>\n",
              "      <td>2019-12-14</td>\n",
              "    </tr>\n",
              "    <tr>\n",
              "      <th>4</th>\n",
              "      <td>2019-01-28</td>\n",
              "      <td>2019-01-25</td>\n",
              "    </tr>\n",
              "    <tr>\n",
              "      <th>...</th>\n",
              "      <td>...</td>\n",
              "      <td>...</td>\n",
              "    </tr>\n",
              "    <tr>\n",
              "      <th>7816</th>\n",
              "      <td>2019-08-16</td>\n",
              "      <td>2019-08-15</td>\n",
              "    </tr>\n",
              "    <tr>\n",
              "      <th>7817</th>\n",
              "      <td>2019-12-27</td>\n",
              "      <td>2019-12-28</td>\n",
              "    </tr>\n",
              "    <tr>\n",
              "      <th>7818</th>\n",
              "      <td>2019-12-24</td>\n",
              "      <td>2019-12-24</td>\n",
              "    </tr>\n",
              "    <tr>\n",
              "      <th>7819</th>\n",
              "      <td>2020-03-17</td>\n",
              "      <td>2020-03-18</td>\n",
              "    </tr>\n",
              "    <tr>\n",
              "      <th>7820</th>\n",
              "      <td>2019-08-29</td>\n",
              "      <td>2019-08-29</td>\n",
              "    </tr>\n",
              "  </tbody>\n",
              "</table>\n",
              "<p>7821 rows × 2 columns</p>\n",
              "</div>"
            ],
            "text/plain": [
              "     Actual Clear Date Predicted Clear Date\n",
              "0           2019-12-20           2019-12-18\n",
              "1           2019-08-06           2019-08-06\n",
              "2           2019-09-06           2019-09-05\n",
              "3           2019-12-16           2019-12-14\n",
              "4           2019-01-28           2019-01-25\n",
              "...                ...                  ...\n",
              "7816        2019-08-16           2019-08-15\n",
              "7817        2019-12-27           2019-12-28\n",
              "7818        2019-12-24           2019-12-24\n",
              "7819        2020-03-17           2020-03-18\n",
              "7820        2019-08-29           2019-08-29\n",
              "\n",
              "[7821 rows x 2 columns]"
            ]
          },
          "metadata": {
            "tags": []
          },
          "execution_count": 61
        }
      ]
    },
    {
      "cell_type": "markdown",
      "metadata": {
        "id": "vYP-FxRrzQ9i"
      },
      "source": [
        "**End of Model Training and Validation.**\n",
        "\n",
        "\n",
        "**Trained Model is : clf**"
      ]
    },
    {
      "cell_type": "markdown",
      "metadata": {
        "id": "jvFoWIvzzYbG"
      },
      "source": [
        "#**Testing the model on main_test** "
      ]
    },
    {
      "cell_type": "code",
      "metadata": {
        "id": "7h2300teNq1l"
      },
      "source": [
        "#Creating custom Dataset from Main Test based on the columns on which we trained our model\n",
        "main_test_cust=main_test[['doc_id','invoice_id','cust_number','invoice_currency','due_in_date','cust_payment_terms']]"
      ],
      "execution_count": 62,
      "outputs": []
    },
    {
      "cell_type": "code",
      "metadata": {
        "colab": {
          "base_uri": "https://localhost:8080/"
        },
        "id": "2qHjA2iHQO7J",
        "outputId": "e007fb32-63a3-49f8-d8dd-b25b618b4e72"
      },
      "source": [
        "#Checking the datatypes of the main_test_cust\n",
        "main_test_cust.dtypes"
      ],
      "execution_count": 63,
      "outputs": [
        {
          "output_type": "execute_result",
          "data": {
            "text/plain": [
              "doc_id                       float64\n",
              "invoice_id                   float64\n",
              "cust_number                   object\n",
              "invoice_currency              object\n",
              "due_in_date           datetime64[ns]\n",
              "cust_payment_terms            object\n",
              "dtype: object"
            ]
          },
          "metadata": {
            "tags": []
          },
          "execution_count": 63
        }
      ]
    },
    {
      "cell_type": "code",
      "metadata": {
        "id": "02CwTq_BzLSx"
      },
      "source": [
        "#Need to Encode the object and datetime fields\n",
        "object_columns = ['cust_number','invoice_currency','cust_payment_terms']\n",
        "date_columns=['due_in_date']\n",
        "\n",
        "\n",
        "# make an encoder object\n",
        "encoder = LabelEncoder()\n",
        "\n",
        "# Adding encoded columns and removing normal object_columns\n",
        "for col in object_columns:\n",
        "  enc=col+'_enc'\n",
        "  encoder.fit(pd.concat([main_test_cust[col], main_test_cust[col]], axis=0, sort=False))\n",
        "  #Adding encoded columns\n",
        "  main_test_cust[enc] = encoder.transform(main_test_cust[col])\n",
        "  #Dropping columns which are already encoded \n",
        "  main_test_cust.drop(col,axis=1,inplace=True)\n",
        "\n",
        "# Adding encoded columns and removing normal date_columns\n",
        "for col in date_columns:\n",
        "  enc=col+'_enc'\n",
        "  #Adding encoded columns  \n",
        "  main_test_cust[enc]=(main_test_cust[col]-pd.to_datetime('1970-01-01')).dt.days.astype('int16')\n",
        "  #Dropping columns which are already encoded \n",
        "  main_test_cust.drop(col,axis=1,inplace=True)"
      ],
      "execution_count": null,
      "outputs": []
    },
    {
      "cell_type": "code",
      "metadata": {
        "id": "DtXX0qJ8zmZP"
      },
      "source": [
        "#Predicting delay using the main_train_cust data\n",
        "clf_predicted_test=clf.predict(main_test_cust)"
      ],
      "execution_count": 65,
      "outputs": []
    },
    {
      "cell_type": "code",
      "metadata": {
        "id": "prhAoqC4K9sP"
      },
      "source": [
        "#Storing the Predicted Delay in a column in main_test_cust.\n",
        "main_test_cust['predicted_delay']=pd.to_timedelta((clf_predicted_test).astype('int16'),unit='d').days.astype('int16')"
      ],
      "execution_count": null,
      "outputs": []
    },
    {
      "cell_type": "code",
      "metadata": {
        "colab": {
          "base_uri": "https://localhost:8080/"
        },
        "id": "ccDEtg9UMutY",
        "outputId": "3abbc4cd-cd5c-467b-ceed-b6d64e3ee52e"
      },
      "source": [
        "#Showing the predicted delay column.\n",
        "main_test_cust['predicted_delay']"
      ],
      "execution_count": 67,
      "outputs": [
        {
          "output_type": "execute_result",
          "data": {
            "text/plain": [
              "1        38\n",
              "8        38\n",
              "13       39\n",
              "15       59\n",
              "17       38\n",
              "         ..\n",
              "49978    38\n",
              "49981    38\n",
              "49983    38\n",
              "49988    51\n",
              "49994    38\n",
              "Name: predicted_delay, Length: 9681, dtype: int64"
            ]
          },
          "metadata": {
            "tags": []
          },
          "execution_count": 67
        }
      ]
    },
    {
      "cell_type": "code",
      "metadata": {
        "id": "v96-sdlUKXO3"
      },
      "source": [
        "#Calculating predicted_clear_date\n",
        "main_test[\"predicted_clear_date\"]=pd.to_datetime('1970-01-01') + pd.to_timedelta(main_test_cust['due_in_date_enc']+(clf_predicted_test).astype('int16'),unit='d')"
      ],
      "execution_count": null,
      "outputs": []
    },
    {
      "cell_type": "code",
      "metadata": {
        "id": "ii3OIHFjHhaB"
      },
      "source": [
        "# Creating Bucket based on the predicted clear date\n",
        "main_test[\"Aging_Bucket\"] = main_test_cust['predicted_delay'].apply(lambda x: \">60 days\" if x > 60 else (\"45-60 days\" if x>45 else (\"31-45 days\" if x >30 else (\"16-30 days\" if x>15 else \"0-15 days\"))))\n"
      ],
      "execution_count": null,
      "outputs": []
    },
    {
      "cell_type": "code",
      "metadata": {
        "colab": {
          "base_uri": "https://localhost:8080/",
          "height": 418
        },
        "id": "wgCTvXR6NKQ3",
        "outputId": "4367d8d4-5e3f-46a9-c1ad-5b19511f8b45"
      },
      "source": [
        "#Showing the \"due_in_date\",\"predicted_clear_date\",\"Aging_Bucket\" in main_test\n",
        "main_test[[\"due_in_date\",\"predicted_clear_date\",\"Aging_Bucket\"]]"
      ],
      "execution_count": 70,
      "outputs": [
        {
          "output_type": "execute_result",
          "data": {
            "text/html": [
              "<div>\n",
              "<style scoped>\n",
              "    .dataframe tbody tr th:only-of-type {\n",
              "        vertical-align: middle;\n",
              "    }\n",
              "\n",
              "    .dataframe tbody tr th {\n",
              "        vertical-align: top;\n",
              "    }\n",
              "\n",
              "    .dataframe thead th {\n",
              "        text-align: right;\n",
              "    }\n",
              "</style>\n",
              "<table border=\"1\" class=\"dataframe\">\n",
              "  <thead>\n",
              "    <tr style=\"text-align: right;\">\n",
              "      <th></th>\n",
              "      <th>due_in_date</th>\n",
              "      <th>predicted_clear_date</th>\n",
              "      <th>Aging_Bucket</th>\n",
              "    </tr>\n",
              "  </thead>\n",
              "  <tbody>\n",
              "    <tr>\n",
              "      <th>1</th>\n",
              "      <td>2020-03-16</td>\n",
              "      <td>2020-04-23</td>\n",
              "      <td>31-45 days</td>\n",
              "    </tr>\n",
              "    <tr>\n",
              "      <th>8</th>\n",
              "      <td>2020-04-04</td>\n",
              "      <td>2020-05-12</td>\n",
              "      <td>31-45 days</td>\n",
              "    </tr>\n",
              "    <tr>\n",
              "      <th>13</th>\n",
              "      <td>2020-05-14</td>\n",
              "      <td>2020-06-22</td>\n",
              "      <td>31-45 days</td>\n",
              "    </tr>\n",
              "    <tr>\n",
              "      <th>15</th>\n",
              "      <td>2020-05-27</td>\n",
              "      <td>2020-07-25</td>\n",
              "      <td>45-60 days</td>\n",
              "    </tr>\n",
              "    <tr>\n",
              "      <th>17</th>\n",
              "      <td>2020-04-13</td>\n",
              "      <td>2020-05-21</td>\n",
              "      <td>31-45 days</td>\n",
              "    </tr>\n",
              "    <tr>\n",
              "      <th>...</th>\n",
              "      <td>...</td>\n",
              "      <td>...</td>\n",
              "      <td>...</td>\n",
              "    </tr>\n",
              "    <tr>\n",
              "      <th>49978</th>\n",
              "      <td>2020-04-25</td>\n",
              "      <td>2020-06-02</td>\n",
              "      <td>31-45 days</td>\n",
              "    </tr>\n",
              "    <tr>\n",
              "      <th>49981</th>\n",
              "      <td>2020-04-29</td>\n",
              "      <td>2020-06-06</td>\n",
              "      <td>31-45 days</td>\n",
              "    </tr>\n",
              "    <tr>\n",
              "      <th>49983</th>\n",
              "      <td>2020-04-02</td>\n",
              "      <td>2020-05-10</td>\n",
              "      <td>31-45 days</td>\n",
              "    </tr>\n",
              "    <tr>\n",
              "      <th>49988</th>\n",
              "      <td>2020-05-23</td>\n",
              "      <td>2020-07-13</td>\n",
              "      <td>45-60 days</td>\n",
              "    </tr>\n",
              "    <tr>\n",
              "      <th>49994</th>\n",
              "      <td>2020-05-03</td>\n",
              "      <td>2020-06-10</td>\n",
              "      <td>31-45 days</td>\n",
              "    </tr>\n",
              "  </tbody>\n",
              "</table>\n",
              "<p>9681 rows × 3 columns</p>\n",
              "</div>"
            ],
            "text/plain": [
              "      due_in_date predicted_clear_date Aging_Bucket\n",
              "1      2020-03-16           2020-04-23   31-45 days\n",
              "8      2020-04-04           2020-05-12   31-45 days\n",
              "13     2020-05-14           2020-06-22   31-45 days\n",
              "15     2020-05-27           2020-07-25   45-60 days\n",
              "17     2020-04-13           2020-05-21   31-45 days\n",
              "...           ...                  ...          ...\n",
              "49978  2020-04-25           2020-06-02   31-45 days\n",
              "49981  2020-04-29           2020-06-06   31-45 days\n",
              "49983  2020-04-02           2020-05-10   31-45 days\n",
              "49988  2020-05-23           2020-07-13   45-60 days\n",
              "49994  2020-05-03           2020-06-10   31-45 days\n",
              "\n",
              "[9681 rows x 3 columns]"
            ]
          },
          "metadata": {
            "tags": []
          },
          "execution_count": 70
        }
      ]
    },
    {
      "cell_type": "code",
      "metadata": {
        "colab": {
          "base_uri": "https://localhost:8080/",
          "height": 488
        },
        "id": "oUKJKPb0P_HI",
        "outputId": "12650a84-bfb1-4fcc-fcfe-520b688586c7"
      },
      "source": [
        "#Showing main_test \n",
        "main_test"
      ],
      "execution_count": 71,
      "outputs": [
        {
          "output_type": "execute_result",
          "data": {
            "text/html": [
              "<div>\n",
              "<style scoped>\n",
              "    .dataframe tbody tr th:only-of-type {\n",
              "        vertical-align: middle;\n",
              "    }\n",
              "\n",
              "    .dataframe tbody tr th {\n",
              "        vertical-align: top;\n",
              "    }\n",
              "\n",
              "    .dataframe thead th {\n",
              "        text-align: right;\n",
              "    }\n",
              "</style>\n",
              "<table border=\"1\" class=\"dataframe\">\n",
              "  <thead>\n",
              "    <tr style=\"text-align: right;\">\n",
              "      <th></th>\n",
              "      <th>business_code</th>\n",
              "      <th>cust_number</th>\n",
              "      <th>name_customer</th>\n",
              "      <th>clear_date</th>\n",
              "      <th>buisness_year</th>\n",
              "      <th>doc_id</th>\n",
              "      <th>posting_date</th>\n",
              "      <th>document_create_date</th>\n",
              "      <th>document_create_date.1</th>\n",
              "      <th>due_in_date</th>\n",
              "      <th>invoice_currency</th>\n",
              "      <th>total_open_amount</th>\n",
              "      <th>baseline_create_date</th>\n",
              "      <th>cust_payment_terms</th>\n",
              "      <th>invoice_id</th>\n",
              "      <th>isOpen</th>\n",
              "      <th>predicted_clear_date</th>\n",
              "      <th>Aging_Bucket</th>\n",
              "    </tr>\n",
              "  </thead>\n",
              "  <tbody>\n",
              "    <tr>\n",
              "      <th>1</th>\n",
              "      <td>U001</td>\n",
              "      <td>0200769623</td>\n",
              "      <td>WAL-MAR systems</td>\n",
              "      <td>NaT</td>\n",
              "      <td>2020.0</td>\n",
              "      <td>1.930584e+09</td>\n",
              "      <td>2020-03-01</td>\n",
              "      <td>2020-02-29</td>\n",
              "      <td>2020-03-01</td>\n",
              "      <td>2020-03-16</td>\n",
              "      <td>USD</td>\n",
              "      <td>9579.37</td>\n",
              "      <td>2020-03-01</td>\n",
              "      <td>NAH4</td>\n",
              "      <td>1.930584e+09</td>\n",
              "      <td>1</td>\n",
              "      <td>2020-04-23</td>\n",
              "      <td>31-45 days</td>\n",
              "    </tr>\n",
              "    <tr>\n",
              "      <th>8</th>\n",
              "      <td>CA02</td>\n",
              "      <td>0140104409</td>\n",
              "      <td>LOB foundation</td>\n",
              "      <td>NaT</td>\n",
              "      <td>2020.0</td>\n",
              "      <td>2.960623e+09</td>\n",
              "      <td>2020-03-22</td>\n",
              "      <td>2020-03-22</td>\n",
              "      <td>2020-03-22</td>\n",
              "      <td>2020-04-04</td>\n",
              "      <td>CAD</td>\n",
              "      <td>127991.65</td>\n",
              "      <td>2020-03-25</td>\n",
              "      <td>CA10</td>\n",
              "      <td>2.960623e+09</td>\n",
              "      <td>1</td>\n",
              "      <td>2020-05-12</td>\n",
              "      <td>31-45 days</td>\n",
              "    </tr>\n",
              "    <tr>\n",
              "      <th>13</th>\n",
              "      <td>U001</td>\n",
              "      <td>0200418007</td>\n",
              "      <td>AM us</td>\n",
              "      <td>NaT</td>\n",
              "      <td>2020.0</td>\n",
              "      <td>1.930624e+09</td>\n",
              "      <td>2020-03-10</td>\n",
              "      <td>2020-03-09</td>\n",
              "      <td>2020-03-10</td>\n",
              "      <td>2020-05-14</td>\n",
              "      <td>USD</td>\n",
              "      <td>14220.00</td>\n",
              "      <td>2020-03-10</td>\n",
              "      <td>NAGD</td>\n",
              "      <td>1.930624e+09</td>\n",
              "      <td>1</td>\n",
              "      <td>2020-06-22</td>\n",
              "      <td>31-45 days</td>\n",
              "    </tr>\n",
              "    <tr>\n",
              "      <th>15</th>\n",
              "      <td>U001</td>\n",
              "      <td>200769623</td>\n",
              "      <td>WAL-MAR co</td>\n",
              "      <td>NaT</td>\n",
              "      <td>2020.0</td>\n",
              "      <td>1.930898e+09</td>\n",
              "      <td>2020-05-12</td>\n",
              "      <td>2020-05-13</td>\n",
              "      <td>2020-05-12</td>\n",
              "      <td>2020-05-27</td>\n",
              "      <td>USD</td>\n",
              "      <td>943.12</td>\n",
              "      <td>2020-05-12</td>\n",
              "      <td>NAH4</td>\n",
              "      <td>1.930898e+09</td>\n",
              "      <td>1</td>\n",
              "      <td>2020-07-25</td>\n",
              "      <td>45-60 days</td>\n",
              "    </tr>\n",
              "    <tr>\n",
              "      <th>17</th>\n",
              "      <td>U001</td>\n",
              "      <td>0200769623</td>\n",
              "      <td>WAL-MAR foundation</td>\n",
              "      <td>NaT</td>\n",
              "      <td>2020.0</td>\n",
              "      <td>1.930719e+09</td>\n",
              "      <td>2020-03-29</td>\n",
              "      <td>2020-03-29</td>\n",
              "      <td>2020-03-29</td>\n",
              "      <td>2020-04-13</td>\n",
              "      <td>USD</td>\n",
              "      <td>41456.51</td>\n",
              "      <td>2020-03-29</td>\n",
              "      <td>NAH4</td>\n",
              "      <td>1.930719e+09</td>\n",
              "      <td>1</td>\n",
              "      <td>2020-05-21</td>\n",
              "      <td>31-45 days</td>\n",
              "    </tr>\n",
              "    <tr>\n",
              "      <th>...</th>\n",
              "      <td>...</td>\n",
              "      <td>...</td>\n",
              "      <td>...</td>\n",
              "      <td>...</td>\n",
              "      <td>...</td>\n",
              "      <td>...</td>\n",
              "      <td>...</td>\n",
              "      <td>...</td>\n",
              "      <td>...</td>\n",
              "      <td>...</td>\n",
              "      <td>...</td>\n",
              "      <td>...</td>\n",
              "      <td>...</td>\n",
              "      <td>...</td>\n",
              "      <td>...</td>\n",
              "      <td>...</td>\n",
              "      <td>...</td>\n",
              "      <td>...</td>\n",
              "    </tr>\n",
              "    <tr>\n",
              "      <th>49978</th>\n",
              "      <td>U001</td>\n",
              "      <td>0200769623</td>\n",
              "      <td>WAL-MAR llc</td>\n",
              "      <td>NaT</td>\n",
              "      <td>2020.0</td>\n",
              "      <td>1.930765e+09</td>\n",
              "      <td>2020-04-10</td>\n",
              "      <td>2020-04-09</td>\n",
              "      <td>2020-04-10</td>\n",
              "      <td>2020-04-25</td>\n",
              "      <td>USD</td>\n",
              "      <td>41851.42</td>\n",
              "      <td>2020-04-10</td>\n",
              "      <td>NAH4</td>\n",
              "      <td>1.930765e+09</td>\n",
              "      <td>1</td>\n",
              "      <td>2020-06-02</td>\n",
              "      <td>31-45 days</td>\n",
              "    </tr>\n",
              "    <tr>\n",
              "      <th>49981</th>\n",
              "      <td>U001</td>\n",
              "      <td>0200739534</td>\n",
              "      <td>OK llc</td>\n",
              "      <td>NaT</td>\n",
              "      <td>2020.0</td>\n",
              "      <td>1.930784e+09</td>\n",
              "      <td>2020-04-14</td>\n",
              "      <td>2020-04-14</td>\n",
              "      <td>2020-04-14</td>\n",
              "      <td>2020-04-29</td>\n",
              "      <td>USD</td>\n",
              "      <td>45929.14</td>\n",
              "      <td>2020-04-14</td>\n",
              "      <td>NAA8</td>\n",
              "      <td>1.930784e+09</td>\n",
              "      <td>1</td>\n",
              "      <td>2020-06-06</td>\n",
              "      <td>31-45 days</td>\n",
              "    </tr>\n",
              "    <tr>\n",
              "      <th>49983</th>\n",
              "      <td>U001</td>\n",
              "      <td>0200705742</td>\n",
              "      <td>DOT trust</td>\n",
              "      <td>NaT</td>\n",
              "      <td>2020.0</td>\n",
              "      <td>1.930582e+09</td>\n",
              "      <td>2020-02-28</td>\n",
              "      <td>2020-02-28</td>\n",
              "      <td>2020-02-28</td>\n",
              "      <td>2020-04-02</td>\n",
              "      <td>USD</td>\n",
              "      <td>476.90</td>\n",
              "      <td>2020-02-28</td>\n",
              "      <td>NAAW</td>\n",
              "      <td>1.930582e+09</td>\n",
              "      <td>1</td>\n",
              "      <td>2020-05-10</td>\n",
              "      <td>31-45 days</td>\n",
              "    </tr>\n",
              "    <tr>\n",
              "      <th>49988</th>\n",
              "      <td>U001</td>\n",
              "      <td>200744019</td>\n",
              "      <td>TARG in</td>\n",
              "      <td>NaT</td>\n",
              "      <td>2020.0</td>\n",
              "      <td>1.930878e+09</td>\n",
              "      <td>2020-05-08</td>\n",
              "      <td>2020-05-08</td>\n",
              "      <td>2020-05-08</td>\n",
              "      <td>2020-05-23</td>\n",
              "      <td>USD</td>\n",
              "      <td>4782.85</td>\n",
              "      <td>2020-05-08</td>\n",
              "      <td>NAA8</td>\n",
              "      <td>1.930878e+09</td>\n",
              "      <td>1</td>\n",
              "      <td>2020-07-13</td>\n",
              "      <td>45-60 days</td>\n",
              "    </tr>\n",
              "    <tr>\n",
              "      <th>49994</th>\n",
              "      <td>U001</td>\n",
              "      <td>0200749782</td>\n",
              "      <td>KROG foundation</td>\n",
              "      <td>NaT</td>\n",
              "      <td>2020.0</td>\n",
              "      <td>1.930798e+09</td>\n",
              "      <td>2020-04-18</td>\n",
              "      <td>2020-04-17</td>\n",
              "      <td>2020-04-18</td>\n",
              "      <td>2020-05-03</td>\n",
              "      <td>USD</td>\n",
              "      <td>31303.81</td>\n",
              "      <td>2020-04-18</td>\n",
              "      <td>NAA8</td>\n",
              "      <td>1.930798e+09</td>\n",
              "      <td>1</td>\n",
              "      <td>2020-06-10</td>\n",
              "      <td>31-45 days</td>\n",
              "    </tr>\n",
              "  </tbody>\n",
              "</table>\n",
              "<p>9681 rows × 18 columns</p>\n",
              "</div>"
            ],
            "text/plain": [
              "      business_code cust_number  ... predicted_clear_date Aging_Bucket\n",
              "1              U001  0200769623  ...           2020-04-23   31-45 days\n",
              "8              CA02  0140104409  ...           2020-05-12   31-45 days\n",
              "13             U001  0200418007  ...           2020-06-22   31-45 days\n",
              "15             U001   200769623  ...           2020-07-25   45-60 days\n",
              "17             U001  0200769623  ...           2020-05-21   31-45 days\n",
              "...             ...         ...  ...                  ...          ...\n",
              "49978          U001  0200769623  ...           2020-06-02   31-45 days\n",
              "49981          U001  0200739534  ...           2020-06-06   31-45 days\n",
              "49983          U001  0200705742  ...           2020-05-10   31-45 days\n",
              "49988          U001   200744019  ...           2020-07-13   45-60 days\n",
              "49994          U001  0200749782  ...           2020-06-10   31-45 days\n",
              "\n",
              "[9681 rows x 18 columns]"
            ]
          },
          "metadata": {
            "tags": []
          },
          "execution_count": 71
        }
      ]
    }
  ]
}